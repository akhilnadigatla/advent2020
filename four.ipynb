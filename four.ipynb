{
 "cells": [
  {
   "cell_type": "code",
   "execution_count": 94,
   "metadata": {},
   "outputs": [],
   "source": [
    "import pandas as pd\n",
    "df = pd.read_csv('four_data.csv', skip_blank_lines = False)\n",
    "\n",
    "import numpy as np\n",
    "df1 = df.replace(np.nan, '', regex = True)"
   ]
  },
  {
   "cell_type": "code",
   "execution_count": 95,
   "metadata": {},
   "outputs": [],
   "source": [
    "data = df1['Passports'].values.tolist()\n",
    "passes = []\n",
    "temp = ''\n",
    "for val in data:\n",
    "    if val != '':\n",
    "        if temp == \"\":\n",
    "            temp += val;\n",
    "        else:\n",
    "            temp = temp + ' ' + val\n",
    "    else:\n",
    "        passes.append(temp)\n",
    "        temp = ''\n",
    "passes.append(temp)"
   ]
  },
  {
   "cell_type": "code",
   "execution_count": 96,
   "metadata": {},
   "outputs": [],
   "source": [
    "result1 = 0\n",
    "fields = ['byr', 'iyr', 'eyr', 'hgt', 'hcl', 'ecl', 'pid']\n",
    "for passport in passes:\n",
    "    count = 0\n",
    "    for field in fields:\n",
    "        if field in passport:\n",
    "            count += 1\n",
    "    if count == len(fields):\n",
    "        result1 += 1"
   ]
  },
  {
   "cell_type": "code",
   "execution_count": 97,
   "metadata": {},
   "outputs": [
    {
     "data": {
      "text/plain": [
       "254"
      ]
     },
     "execution_count": 97,
     "metadata": {},
     "output_type": "execute_result"
    }
   ],
   "source": [
    "result1"
   ]
  },
  {
   "cell_type": "code",
   "execution_count": 98,
   "metadata": {},
   "outputs": [],
   "source": [
    "temp_passes = []\n",
    "for passport in passes:\n",
    "    temp_passes.append(passport.split())\n",
    "\n",
    "sep_passes = []\n",
    "for passport in temp_passes:\n",
    "    psp = []\n",
    "    for entry in passport:\n",
    "        psp.append(tuple(entry.split(':')))\n",
    "    sep_passes.append(dict(psp))"
   ]
  },
  {
   "cell_type": "code",
   "execution_count": 126,
   "metadata": {},
   "outputs": [],
   "source": [
    "import string\n",
    "result2 = 0\n",
    "for passport in sep_passes:\n",
    "    byr = passport.get('byr')\n",
    "    if byr == None:\n",
    "        continue\n",
    "    byr = int(byr)\n",
    "    if byr < 1920 or byr > 2002:\n",
    "        continue\n",
    "    \n",
    "    iyr = passport.get('iyr')\n",
    "    if iyr == None:\n",
    "        continue\n",
    "    iyr = int(iyr)\n",
    "    if iyr < 2010 or iyr > 2020:\n",
    "        continue\n",
    "    \n",
    "    eyr = passport.get('eyr')\n",
    "    if eyr == None:\n",
    "        continue\n",
    "    eyr = int(eyr)\n",
    "    if eyr < 2020 or eyr > 2030:\n",
    "        continue\n",
    "    \n",
    "    hgt = passport.get('hgt')\n",
    "    if hgt == None:\n",
    "        continue\n",
    "    unit = hgt[-2:]\n",
    "    hgt = hgt[:-2]\n",
    "    if hgt == '':\n",
    "        continue\n",
    "    hgt = int(hgt)\n",
    "    if unit == 'cm':\n",
    "        if hgt < 150 or hgt > 193:\n",
    "            continue\n",
    "    elif unit == 'in':\n",
    "        if hgt < 59 or hgt > 76:\n",
    "            continue\n",
    "    else:\n",
    "        continue\n",
    "    \n",
    "    hcl = passport.get('hcl')\n",
    "    if hcl == None:\n",
    "        continue\n",
    "    if hcl[0] != '#':\n",
    "        continue\n",
    "    for c in hcl[1:]:\n",
    "        if c not in string.hexdigits[:-6]:\n",
    "            continue\n",
    "    \n",
    "    result2 += 1\n",
    "   \n",
    "    ecl = passport.get('ecl')\n",
    "    if ecl == None:\n",
    "        continue\n",
    "    if ecl not in ['amb', 'blu', 'brn', 'gry', 'grn', 'hzl', 'oth']:\n",
    "        continue\n",
    "    \n",
    "    pid = passport.get('pid')\n",
    "    if pid == None:\n",
    "        continue\n",
    "    if len(pid) != 9:\n",
    "        continue\n",
    "    if not pid.isnumeric():\n",
    "        continue"
   ]
  },
  {
   "cell_type": "code",
   "execution_count": 127,
   "metadata": {},
   "outputs": [
    {
     "data": {
      "text/plain": [
       "'0123456789abcdef'"
      ]
     },
     "execution_count": 127,
     "metadata": {},
     "output_type": "execute_result"
    }
   ],
   "source": []
  },
  {
   "cell_type": "code",
   "execution_count": null,
   "metadata": {},
   "outputs": [],
   "source": []
  }
 ],
 "metadata": {
  "kernelspec": {
   "display_name": "Python 3",
   "language": "python",
   "name": "python3"
  },
  "language_info": {
   "codemirror_mode": {
    "name": "ipython",
    "version": 3
   },
   "file_extension": ".py",
   "mimetype": "text/x-python",
   "name": "python",
   "nbconvert_exporter": "python",
   "pygments_lexer": "ipython3",
   "version": "3.8.3"
  }
 },
 "nbformat": 4,
 "nbformat_minor": 2
}
