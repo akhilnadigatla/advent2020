{
 "cells": [
  {
   "cell_type": "code",
   "execution_count": 58,
   "metadata": {},
   "outputs": [],
   "source": [
    "import pandas as pd\n",
    "df = pd.read_csv('three_data.csv')\n",
    "n = len(df['Map'].iloc[0])\n",
    "rows = df['Map'].values.tolist()"
   ]
  },
  {
   "cell_type": "code",
   "execution_count": 59,
   "metadata": {},
   "outputs": [],
   "source": [
    "i = 0\n",
    "result1 = 0\n",
    "for row in rows:\n",
    "    if row[i] == '#':\n",
    "        result1 += 1\n",
    "    i = (i + 3) % n"
   ]
  },
  {
   "cell_type": "code",
   "execution_count": 60,
   "metadata": {},
   "outputs": [
    {
     "data": {
      "text/plain": [
       "203"
      ]
     },
     "execution_count": 60,
     "metadata": {},
     "output_type": "execute_result"
    }
   ],
   "source": [
    "result1"
   ]
  },
  {
   "cell_type": "code",
   "execution_count": 61,
   "metadata": {},
   "outputs": [],
   "source": [
    "i1 = 0\n",
    "count1 = 0\n",
    "for row in rows:\n",
    "    if row[i1] == '#':\n",
    "        count1 += 1\n",
    "    i1 = (i1 + 1) % n"
   ]
  },
  {
   "cell_type": "code",
   "execution_count": 62,
   "metadata": {},
   "outputs": [],
   "source": [
    "i2 = 0\n",
    "count2 = 0\n",
    "for row in rows:\n",
    "    if row[i2] == '#':\n",
    "        count2 += 1\n",
    "    i2 = (i2 + 3) % n"
   ]
  },
  {
   "cell_type": "code",
   "execution_count": 63,
   "metadata": {},
   "outputs": [],
   "source": [
    "i3 = 0\n",
    "count3 = 0\n",
    "for row in rows:\n",
    "    if row[i3] == '#':\n",
    "        count3 += 1\n",
    "    i3 = (i3 + 5) % n"
   ]
  },
  {
   "cell_type": "code",
   "execution_count": 64,
   "metadata": {},
   "outputs": [],
   "source": [
    "i4 = 0\n",
    "count4 = 0\n",
    "for row in rows:\n",
    "    if row[i4] == '#':\n",
    "        count4 += 1\n",
    "    i4 = (i4 + 7) % n"
   ]
  },
  {
   "cell_type": "code",
   "execution_count": 65,
   "metadata": {},
   "outputs": [],
   "source": [
    "i5 = 0\n",
    "count5 = 0\n",
    "for j in range(0, len(rows), 2):\n",
    "    if rows[j][i5] == '#':\n",
    "        count5 += 1\n",
    "    i5 = (i5 + 1) % n"
   ]
  },
  {
   "cell_type": "code",
   "execution_count": 66,
   "metadata": {},
   "outputs": [],
   "source": [
    "result2 = count1 * count2 * count3 * count4 * count5"
   ]
  },
  {
   "cell_type": "code",
   "execution_count": 67,
   "metadata": {},
   "outputs": [
    {
     "data": {
      "text/plain": [
       "3316272960"
      ]
     },
     "execution_count": 67,
     "metadata": {},
     "output_type": "execute_result"
    }
   ],
   "source": [
    "result2"
   ]
  },
  {
   "cell_type": "code",
   "execution_count": null,
   "metadata": {},
   "outputs": [],
   "source": []
  }
 ],
 "metadata": {
  "kernelspec": {
   "display_name": "Python 3",
   "language": "python",
   "name": "python3"
  },
  "language_info": {
   "codemirror_mode": {
    "name": "ipython",
    "version": 3
   },
   "file_extension": ".py",
   "mimetype": "text/x-python",
   "name": "python",
   "nbconvert_exporter": "python",
   "pygments_lexer": "ipython3",
   "version": "3.8.3"
  }
 },
 "nbformat": 4,
 "nbformat_minor": 2
}
